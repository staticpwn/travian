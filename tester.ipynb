{
 "cells": [
  {
   "cell_type": "code",
   "execution_count": 1,
   "id": "d2f10998",
   "metadata": {},
   "outputs": [],
   "source": [
    "\n",
    "\n",
    "from importlib import reload\n",
    "\n",
    "import utility_functions\n",
    "utility_functions = reload(utility_functions)\n",
    "from utility_functions import *\n",
    "\n"
   ]
  },
  {
   "cell_type": "code",
   "execution_count": 3,
   "id": "55c5b5ff",
   "metadata": {},
   "outputs": [],
   "source": [
    "\n",
    "\n",
    "chrome_path = find_chrome_executable()\n",
    "\n"
   ]
  },
  {
   "cell_type": "code",
   "execution_count": 184,
   "id": "26c5783a",
   "metadata": {},
   "outputs": [],
   "source": [
    "tile_frame = pd.DataFrame(tile_data)\n",
    "tile_frame.to_csv(\"tile_data.csv\", index=False)"
   ]
  },
  {
   "cell_type": "code",
   "execution_count": 7,
   "id": "e07a6a24",
   "metadata": {},
   "outputs": [],
   "source": [
    "tiles = pd.read_csv(\"tile_data.csv\")"
   ]
  },
  {
   "cell_type": "code",
   "execution_count": 8,
   "id": "aae6a1da",
   "metadata": {},
   "outputs": [],
   "source": [
    "distance_mask = tiles[\"distance\"] < 50\n",
    "oasis_mask = tiles[\"type\"] == \"Unoccupied oasis\"\n",
    "resource_mask = True#tiles[\"resources\"] != \"Crop\"\n",
    "\n",
    "targets = tiles[distance_mask & oasis_mask & resource_mask]\n",
    "targets[\"coordinates\"] = targets[\"coordinates\"].apply(lambda s: tuple(int(n) for n in s.strip(\"()\").split(\",\")))"
   ]
  },
  {
   "cell_type": "code",
   "execution_count": 9,
   "id": "ecfe012a",
   "metadata": {},
   "outputs": [],
   "source": [
    "targets = targets[[\"index\", \"coordinates\", \"distance\"]]\n",
    "targets['last_raided'] = round(time.time(), 0)\n",
    "targets['next_check'] = round(time.time(), 0)"
   ]
  },
  {
   "cell_type": "code",
   "execution_count": 10,
   "id": "a8b7f95f",
   "metadata": {},
   "outputs": [
    {
     "data": {
      "text/plain": [
       "564"
      ]
     },
     "execution_count": 10,
     "metadata": {},
     "output_type": "execute_result"
    }
   ],
   "source": [
    "len(targets)"
   ]
  },
  {
   "cell_type": "code",
   "execution_count": 12,
   "id": "e2e82982",
   "metadata": {},
   "outputs": [],
   "source": [
    "targets.to_csv(\"oases.csv\", index=False)"
   ]
  },
  {
   "cell_type": "code",
   "execution_count": 13,
   "id": "ca814ae2",
   "metadata": {},
   "outputs": [],
   "source": [
    "diag = ensure_cdp_chrome_running(\n",
    "        chrome_path=chrome_path,           # or r\"C:\\Program Files\\Google\\Chrome\\Application\\chrome.exe\"\n",
    "        remote_port=9222,\n",
    "        user_data_dir=os.path.join(os.path.expanduser(\"~\"), \".cdp_chrome_profile\"),\n",
    "        extra_args=None,            # e.g., [\"--disable-extensions\"]\n",
    "        timeout_secs=25.0,\n",
    "        kill_if_unreachable=True,\n",
    "    )\n",
    "\n",
    "\n",
    "\n",
    "with open(\"..\\diag_pid.txt\", \"w\") as f:\n",
    "    f.write(str(diag['pid']))\n",
    "    f.close()"
   ]
  },
  {
   "cell_type": "code",
   "execution_count": 14,
   "id": "ec92342d",
   "metadata": {},
   "outputs": [
    {
     "data": {
      "text/plain": [
       "74400"
      ]
     },
     "execution_count": 14,
     "metadata": {},
     "output_type": "execute_result"
    }
   ],
   "source": [
    "diag['pid']"
   ]
  },
  {
   "cell_type": "code",
   "execution_count": null,
   "id": "173a2bed",
   "metadata": {},
   "outputs": [
    {
     "name": "stdout",
     "output_type": "stream",
     "text": [
      "logged in to NobelSword\n",
      "out of troops. waiting.\n"
     ]
    }
   ],
   "source": [
    "while True:\n",
    "\n",
    "    period_user = get_user_for_period(period_allocations)\n",
    "\n",
    "    if period_user is None:\n",
    "        time.sleep(random.randint(5,30) * random.randint(30,60))\n",
    "        continue\n",
    "    else:\n",
    "\n",
    "        if get_current_account() != period_user:\n",
    "            \n",
    "            login_to_account(diag, period_user)\n",
    "\n",
    "    imported_targets = pd.read_csv('oases.csv')\n",
    "    imported_targets.sort_values('last_raided', inplace=True)\n",
    "\n",
    "    filtered_imported_targets = imported_targets[imported_targets[\"distance\"] <= RAIDING_RADIUS_FROM_TERANA]\n",
    "\n",
    "\n",
    "    ### initial troop count\n",
    "    \n",
    "    try:\n",
    "        ensure_navigate(diag, \"send_troops\")\n",
    "        overview_page_html = get_outer_html_from_diag(diag)\n",
    "        troops = analyze_overview_page(overview_page_html)\n",
    "\n",
    "        if len(troops) == 0:\n",
    "            time.sleep(random.randint(30,60) * random.randint(1,3))\n",
    "            continue\n",
    "\n",
    "\n",
    "        for name, oasis in filtered_imported_targets.iterrows():\n",
    "\n",
    "            x,y = eval(oasis['coordinates'])\n",
    "            \n",
    "            if distance_between_points(village_coords['terana'], (x, y)) > RAIDING_RADIUS_FROM_TERANA:\n",
    "                continue\n",
    "\n",
    "            if (datetime.now().time().hour in range(0,4)) or (datetime.now().time().hour in range(12,16)):\n",
    "                if distance_between_points(village_coords['terana'], (x, y)) > 14:\n",
    "                    continue\n",
    "\n",
    "\n",
    "            if (time.time() < oasis['next_check']):\n",
    "                # print(f\"skipping {oasis['coordinates']}\")\n",
    "                continue\n",
    "            \n",
    "            \n",
    "            tile_html = get_tile_info_html_from_diag(diag, x, y)\n",
    "            oasis_details = parse_tile_details(tile_html)\n",
    "\n",
    "            if oasis_details['type'] != 'Unoccupied oasis':\n",
    "                imported_targets.loc[name, 'next_check'] = time.time() + 3600*24*7\n",
    "                imported_targets.to_csv(\"oases.csv\", index=False)\n",
    "                continue\n",
    "\n",
    "            if oasis_details['troops'] is not None:\n",
    "                imported_targets.loc[name, 'next_check'] = time.time() + 30*60\n",
    "                imported_targets.to_csv(\"oases.csv\", index=False)\n",
    "                continue\n",
    "\n",
    "            # send_troops(x,y, village_id, troop_sub_dict, cookie_dict)\n",
    "            if send_oasis_raid(diag):\n",
    "                imported_targets.loc[name, 'last_raided'] = round(time.time(), 0)\n",
    "                imported_targets.to_csv(\"oases.csv\", index=False)\n",
    "                time.sleep(random.uniform(0.0,1.0))\n",
    "            else:\n",
    "                print(\"out of troops. waiting.\")\n",
    "                break\n",
    "    except:\n",
    "        diag = ensure_cdp_chrome_running(\n",
    "        chrome_path=chrome_path,           # or r\"C:\\Program Files\\Google\\Chrome\\Application\\chrome.exe\"\n",
    "        remote_port=9222,\n",
    "        user_data_dir=os.path.join(os.path.expanduser(\"~\"), \".cdp_chrome_profile\"),\n",
    "        extra_args=None,            # e.g., [\"--disable-extensions\"]\n",
    "        timeout_secs=25.0,\n",
    "        kill_if_unreachable=True,\n",
    "    )\n",
    "        \n",
    "    # time.sleep(random.randint(30,60) * random.randint(1,3))"
   ]
  },
  {
   "cell_type": "code",
   "execution_count": 42,
   "id": "0669be40",
   "metadata": {},
   "outputs": [],
   "source": [
    "tile_html = get_outer_html_from_diag(diag)\n",
    "oasis_details = parse_tile_details(tile_html)"
   ]
  },
  {
   "cell_type": "code",
   "execution_count": null,
   "id": "d65c2ad3",
   "metadata": {},
   "outputs": [
    {
     "data": {
      "text/plain": [
       "{'index': 'tile_66_-17',\n",
       " 'coordinates': (66, -17),\n",
       " 'type': 'Unoccupied oasis',\n",
       " 'owner': 'nature',\n",
       " 'troops': [{'unit': 'Spider', 'count': 1}],\n",
       " 'distance': 15.5,\n",
       " 'resources': 'Clay'}"
      ]
     },
     "execution_count": 43,
     "metadata": {},
     "output_type": "execute_result"
    }
   ],
   "source": []
  },
  {
   "cell_type": "code",
   "execution_count": 100,
   "id": "d886f1b6",
   "metadata": {},
   "outputs": [],
   "source": [
    "import requests\n",
    "\n",
    "def simulate_combat(attacker_list, animal_list):\n",
    "    headers = {\n",
    "        'Accept': 'application/json',\n",
    "        'Accept-Language': 'en-US,en;q=0.9',\n",
    "        'Connection': 'keep-alive',\n",
    "        'Content-type': 'application/x-www-form-urlencoded',\n",
    "        'Origin': 'http://travian.kirilloid.ru',\n",
    "        'Referer': 'http://travian.kirilloid.ru/warsim2.php',\n",
    "        'User-Agent': 'Mozilla/5.0 (Windows NT 10.0; Win64; x64) AppleWebKit/537.36 (KHTML, like Gecko) Chrome/141.0.0.0 Safari/537.36',\n",
    "        # 'Cookie': 'dpi=96; _ga=GA1.2.849942373.1760188930; _gid=GA1.2.1392563283.1760188930',\n",
    "    }\n",
    "\n",
    "    base_data_list = eval('[{},{\"r\":3,\"u\":[0,0,0,0,0,0,0,0,0,0],\"U\":[0,0,0,0,0,0,0,0],\"side\":\"def\"},{\"r\":2,\"R\":1,\"u\":[0,0,0,0,0,0,0,0,0,0],\"U\":[0,0,0,0,0,0,0,0],\"b\":[0,0],\"side\":\"off\"}]')\n",
    "    base_data_list[1][\"u\"] = animal_list\n",
    "    base_data_list[2][\"u\"] = attacker_list\n",
    "    \n",
    "    # return str(base_data_list)\n",
    "    data = {\n",
    "        'data': str(base_data_list).replace(\" \", \"\").replace(\"'\", \"\\\"\"),\n",
    "        'mode': '9',\n",
    "    }\n",
    "\n",
    "    response = requests.post('http://travian.kirilloid.ru/awar2.php', headers=headers, data=data, verify=False)\n",
    "\n",
    "    if response.status_code == 200:\n",
    "        if response.json()[0][\"type\"] == \"error\":\n",
    "            return 1\n",
    "        return response.json()[1]['losses'][0]\n",
    "    else:\n",
    "        return 1"
   ]
  },
  {
   "cell_type": "code",
   "execution_count": 70,
   "id": "198cea55",
   "metadata": {},
   "outputs": [
    {
     "data": {
      "text/plain": [
       "200"
      ]
     },
     "execution_count": 70,
     "metadata": {},
     "output_type": "execute_result"
    }
   ],
   "source": [
    "response.status_code"
   ]
  },
  {
   "cell_type": "code",
   "execution_count": 40,
   "id": "7a718d64",
   "metadata": {},
   "outputs": [
    {
     "data": {
      "text/plain": [
       "[{'type': 'def', 'pob': 0, 'units': {'3': [0, 0, 0, 0, 0, 2, 2, 0, 0, 0, 0]}},\n",
       " {'type': 'off',\n",
       "  'race': 2,\n",
       "  'units': [0, 0, 0, 3, 0, 0, 0, 0, 0, 0, 0],\n",
       "  'trapped': [0, 0, 0, 0, 0, 0, 0, 0, 0, 0, 0],\n",
       "  'revived': [],\n",
       "  'losses': [0.7128371886045082, 0.28716281139549177],\n",
       "  'hero_health': None,\n",
       "  'dead_heroes': {'0': 0,\n",
       "   '1': 0,\n",
       "   '2': 0,\n",
       "   '5': 0,\n",
       "   '6': 0,\n",
       "   '7': 0,\n",
       "   '8': 0,\n",
       "   '3': 0},\n",
       "  'info': []},\n",
       " {'type': 'link', 'id': 'BgQImAEFFsDwEA'},\n",
       " {'type': 'warns', 'mask': 0}]"
      ]
     },
     "execution_count": 40,
     "metadata": {},
     "output_type": "execute_result"
    }
   ],
   "source": [
    "response.json()"
   ]
  },
  {
   "cell_type": "code",
   "execution_count": 44,
   "id": "8135eea2",
   "metadata": {},
   "outputs": [],
   "source": [
    "list_of_animals = ['Rat', 'Spider', 'Snake', 'Bat', 'Wild Boar', 'Wolf', 'Bear', 'Crocodile', 'Tiger', 'Elephant']\n",
    "list_of_gaul_trooops = ['phalanx', 'swordsman', 'pathfinder', 'thunder', 'druid', 'haeduan', 'ram', 'treb', 'cheif', 'settler']"
   ]
  },
  {
   "cell_type": "code",
   "execution_count": null,
   "id": "3ce3006e",
   "metadata": {},
   "outputs": [],
   "source": [
    "data_list = eval('[{},{\"r\":3,\"u\":[0,0,0,0,0,0,0,0,0,0],\"U\":[0,0,0,0,0,0,0,0],\"side\":\"def\"},{\"r\":2,\"R\":1,\"u\":[0,0,0,0,0,0,0,0,0,0],\"U\":[0,0,0,0,0,0,0,0],\"b\":[0,0],\"side\":\"off\"}]')"
   ]
  },
  {
   "cell_type": "code",
   "execution_count": null,
   "id": "ddf0bacf",
   "metadata": {},
   "outputs": [
    {
     "data": {
      "text/plain": [
       "[{},\n",
       " {'r': 3,\n",
       "  'u': [0, 1, 0, 0, 0, 0, 0, 0, 0, 0],\n",
       "  'U': [0, 0, 0, 0, 0, 0, 0, 0],\n",
       "  'side': 'def'},\n",
       " {'r': 2,\n",
       "  'R': 1,\n",
       "  'u': [0, 0, 0, 3, 0, 0, 0, 0, 0, 0],\n",
       "  'U': [0, 0, 0, 0, 0, 0, 0, 0],\n",
       "  'b': [0, 0],\n",
       "  'side': 'off'}]"
      ]
     },
     "execution_count": 66,
     "metadata": {},
     "output_type": "execute_result"
    }
   ],
   "source": [
    "data_list[2][\"u\"] = [0, 0, 0, 3, 0, 0, 0, 0, 0, 0]"
   ]
  },
  {
   "cell_type": "code",
   "execution_count": null,
   "id": "ddc4bb70",
   "metadata": {},
   "outputs": [],
   "source": [
    "# def get_simulator_attacker_loss(oasis_details, attacking_troops_input):\n",
    "\n",
    "\n",
    "animals = oasis_details['troops']\n",
    "\n",
    "input_animal_list = np.zeros(shape=(1,10), dtype=int).tolist()[0]\n",
    "for animal_dict in animals:\n",
    "    input_animal_list[list_of_animals.index(animal_dict[\"unit\"])] = animal_dict[\"count\"]\n",
    "\n",
    "attacker_list = [0, 0, 0, 3, 0, 0, 0, 0, 0, 0]\n",
    "response = simulate_combat(attacker_list, input_animal_list)"
   ]
  },
  {
   "cell_type": "code",
   "execution_count": 102,
   "id": "befc533b",
   "metadata": {},
   "outputs": [
    {
     "data": {
      "text/plain": [
       "0.06370669049627474"
      ]
     },
     "execution_count": 102,
     "metadata": {},
     "output_type": "execute_result"
    }
   ],
   "source": [
    "response"
   ]
  },
  {
   "cell_type": "code",
   "execution_count": 91,
   "id": "ae4534c0",
   "metadata": {},
   "outputs": [
    {
     "data": {
      "text/plain": [
       "False"
      ]
     },
     "execution_count": 91,
     "metadata": {},
     "output_type": "execute_result"
    }
   ],
   "source": [
    "response == '[{},{\"r\":3,\"u\":[8,3,0,0,0,0,0,0,0,0],\"U\":[0,0,0,0,0,0,0,0],\"side\":\"def\"},{\"r\":2,\"R\":1,\"u\":[0,0,0,3,0,0,0,0,0,0],\"U\":[0,0,0,0,0,0,0,0],\"b\":[0,0],\"side\":\"off\"}]'"
   ]
  },
  {
   "cell_type": "code",
   "execution_count": 95,
   "id": "4abb5c89",
   "metadata": {},
   "outputs": [
    {
     "name": "stdout",
     "output_type": "stream",
     "text": [
      "[{},{\"r\":3,\"u\":[0,1,0,0,0,0,0,0,0,0],\"U\":[0,0,0,0,0,0,0,0],\"side\":\"def\"},{\"r\":2,\"R\":1,\"u\":[0,0,0,3,0,0,0,0,0,0],\"U\":[0,0,0,0,0,0,0,0],\"b\":[0,0],\"side\":\"off\"}]\n",
      "[{},{\"r\":3,\"u\":[0,1,0,0,0,0,0,0,0,0],\"U\":[0,0,0,0,0,0,0,0],\"side\":\"def\"},{\"r\":2,\"R\":1,\"u\":[0,0,0,3,0,0,0,0,0,0],\"U\":[0,0,0,0,0,0,0,0],\"b\":[0,0],\"side\":\"off\"}]\n"
     ]
    }
   ],
   "source": [
    "print(response.replace(\" \", \"\").replace(\"'\", \"\\\"\"))\n",
    "print('[{},{\"r\":3,\"u\":[0,1,0,0,0,0,0,0,0,0],\"U\":[0,0,0,0,0,0,0,0],\"side\":\"def\"},{\"r\":2,\"R\":1,\"u\":[0,0,0,3,0,0,0,0,0,0],\"U\":[0,0,0,0,0,0,0,0],\"b\":[0,0],\"side\":\"off\"}]')"
   ]
  },
  {
   "cell_type": "code",
   "execution_count": 96,
   "id": "2698f141",
   "metadata": {},
   "outputs": [
    {
     "data": {
      "text/plain": [
       "True"
      ]
     },
     "execution_count": 96,
     "metadata": {},
     "output_type": "execute_result"
    }
   ],
   "source": [
    "response.replace(\" \", \"\").replace(\"'\", \"\\\"\") == '[{},{\"r\":3,\"u\":[0,1,0,0,0,0,0,0,0,0],\"U\":[0,0,0,0,0,0,0,0],\"side\":\"def\"},{\"r\":2,\"R\":1,\"u\":[0,0,0,3,0,0,0,0,0,0],\"U\":[0,0,0,0,0,0,0,0],\"b\":[0,0],\"side\":\"off\"}]'"
   ]
  },
  {
   "cell_type": "code",
   "execution_count": null,
   "id": "2f1aac2b",
   "metadata": {},
   "outputs": [],
   "source": []
  }
 ],
 "metadata": {
  "kernelspec": {
   "display_name": "trav",
   "language": "python",
   "name": "python3"
  },
  "language_info": {
   "codemirror_mode": {
    "name": "ipython",
    "version": 3
   },
   "file_extension": ".py",
   "mimetype": "text/x-python",
   "name": "python",
   "nbconvert_exporter": "python",
   "pygments_lexer": "ipython3",
   "version": "3.10.11"
  }
 },
 "nbformat": 4,
 "nbformat_minor": 5
}
