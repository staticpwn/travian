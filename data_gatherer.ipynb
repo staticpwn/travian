{
 "cells": [
  {
   "cell_type": "code",
   "execution_count": 185,
   "id": "67d978e2",
   "metadata": {},
   "outputs": [],
   "source": [
    "from importlib import reload\n",
    "\n",
    "import utility_functions\n",
    "utility_functions = reload(utility_functions)\n",
    "from utility_functions import *\n",
    "\n",
    "from importlib import reload\n",
    "\n",
    "import gather_utils\n",
    "gather_utils = reload(gather_utils)\n",
    "from gather_utils import *\n",
    "\n",
    "chrome_path = find_chrome_executable()\n",
    "import warnings\n",
    "warnings.filterwarnings(\"ignore\")"
   ]
  },
  {
   "cell_type": "code",
   "execution_count": null,
   "id": "1b73fa6a",
   "metadata": {},
   "outputs": [],
   "source": [
    "diag = ensure_cdp_chrome_running(\n",
    "        chrome_path=chrome_path,           # or r\"C:\\Program Files\\Google\\Chrome\\Application\\chrome.exe\"\n",
    "        remote_port=9222,\n",
    "        user_data_dir=os.path.join(os.path.expanduser(\"~\"), \".cdp_chrome_profile\"),\n",
    "        extra_args=None,            # e.g., [\"--disable-extensions\"]\n",
    "        timeout_secs=12.0,\n",
    "        kill_if_unreachable=True,\n",
    "    )\n",
    "\n"
   ]
  },
  {
   "cell_type": "code",
   "execution_count": null,
   "id": "2ce06c19",
   "metadata": {},
   "outputs": [
    {
     "data": {
      "text/plain": [
       "{'ok': True,\n",
       " 'final_url': None,\n",
       " 'title': None,\n",
       " 'timed_out': False,\n",
       " 'nav_time_s': 0.5900647640228271,\n",
       " 'html': None,\n",
       " 'error': None}"
      ]
     },
     "execution_count": 6,
     "metadata": {},
     "output_type": "execute_result"
    }
   ],
   "source": [
    "url = \"http://travian.kirilloid.ru/build.php#mb=1&s=1.46&lvls=0,18\"\n",
    "navigate_to_site(diag['endpoint'],\n",
    "                                target_selector=\"\",   # match url or title substring\n",
    "                                url=url,\n",
    "                                set_skip_all_pauses=True,  # set True if you want the page HTML returned\n",
    "                                debug=False)"
   ]
  },
  {
   "cell_type": "code",
   "execution_count": null,
   "id": "3698b0e8",
   "metadata": {},
   "outputs": [],
   "source": []
  },
  {
   "cell_type": "code",
   "execution_count": 7,
   "id": "53a69557",
   "metadata": {},
   "outputs": [],
   "source": [
    "html = get_outer_html_from_diag(diag)"
   ]
  },
  {
   "cell_type": "code",
   "execution_count": 8,
   "id": "0fa9a03f",
   "metadata": {},
   "outputs": [],
   "source": [
    "soup = BeautifulSoup(html, 'html.parser')"
   ]
  },
  {
   "cell_type": "code",
   "execution_count": 9,
   "id": "527f2010",
   "metadata": {},
   "outputs": [],
   "source": [
    "data = extract_build_items(html)"
   ]
  },
  {
   "cell_type": "code",
   "execution_count": 14,
   "id": "b0bc25f4",
   "metadata": {},
   "outputs": [
    {
     "name": "stdout",
     "output_type": "stream",
     "text": [
      "Error processing item Blacksmith: CDP error for DOM.scrollIntoViewIfNeeded: {'code': -32000, 'message': 'Node does not have a layout object'}\n",
      "Error processing item Defensive wall: CDP error for DOM.scrollIntoViewIfNeeded: {'code': -32000, 'message': 'Node does not have a layout object'}\n",
      "Error processing item Sapartans hosptial: CDP error for DOM.scrollIntoViewIfNeeded: {'code': -32000, 'message': 'Node does not have a layout object'}\n",
      "Error processing item Harbor: CDP error for DOM.scrollIntoViewIfNeeded: {'code': -32000, 'message': 'Node does not have a layout object'}\n",
      "Error processing item Barricade: CDP error for DOM.scrollIntoViewIfNeeded: {'code': -32000, 'message': 'Node does not have a layout object'}\n"
     ]
    }
   ],
   "source": [
    "final_data = []\n",
    "\n",
    "count = 0\n",
    "\n",
    "for item in data:\n",
    "    try:\n",
    "        click_element(diag, f\"#{item['raw_id']}\", click_count=1)\n",
    "        time.sleep(1)\n",
    "        \n",
    "        html_with_table = get_outer_html_from_diag(diag)\n",
    "        rows = extract_table_rows(html_with_table, item[\"name\"])\n",
    "        \n",
    "        final_data.extend(rows)\n",
    "        time.sleep(1)\n",
    "        click_element(diag, \"#data_holder-close\", click_count=1)\n",
    "    \n",
    "    except Exception as e:\n",
    "        print(f\"Error processing item {item['name']}: {e}\")\n",
    "        continue\n",
    "    count += 1\n",
    "    # if count == 5:\n",
    "    #     break"
   ]
  },
  {
   "cell_type": "code",
   "execution_count": 15,
   "id": "a989853f",
   "metadata": {},
   "outputs": [],
   "source": [
    "pd.DataFrame(final_data).to_csv(\"building_costs.csv\")"
   ]
  },
  {
   "cell_type": "code",
   "execution_count": null,
   "id": "fba903ec",
   "metadata": {},
   "outputs": [],
   "source": []
  },
  {
   "cell_type": "code",
   "execution_count": null,
   "id": "07c5330a",
   "metadata": {},
   "outputs": [],
   "source": [
    "apolo_html = get_outer_html_from_diag(diag)\n",
    "ids = extract_svg_group_ids(apolo_html)"
   ]
  },
  {
   "cell_type": "code",
   "execution_count": null,
   "id": "0db43818",
   "metadata": {},
   "outputs": [],
   "source": []
  },
  {
   "cell_type": "code",
   "execution_count": 51,
   "id": "89ce031c",
   "metadata": {},
   "outputs": [],
   "source": [
    "id_frame = pd.DataFrame(ids)"
   ]
  },
  {
   "cell_type": "code",
   "execution_count": 56,
   "id": "908025c0",
   "metadata": {},
   "outputs": [
    {
     "data": {
      "text/html": [
       "<div>\n",
       "<style scoped>\n",
       "    .dataframe tbody tr th:only-of-type {\n",
       "        vertical-align: middle;\n",
       "    }\n",
       "\n",
       "    .dataframe tbody tr th {\n",
       "        vertical-align: top;\n",
       "    }\n",
       "\n",
       "    .dataframe thead th {\n",
       "        text-align: right;\n",
       "    }\n",
       "</style>\n",
       "<table border=\"1\" class=\"dataframe\">\n",
       "  <thead>\n",
       "    <tr style=\"text-align: right;\">\n",
       "      <th></th>\n",
       "      <th>id</th>\n",
       "      <th>flight</th>\n",
       "    </tr>\n",
       "  </thead>\n",
       "  <tbody>\n",
       "    <tr>\n",
       "      <th>6</th>\n",
       "      <td>3401864</td>\n",
       "      <td>508</td>\n",
       "    </tr>\n",
       "    <tr>\n",
       "      <th>28</th>\n",
       "      <td>3406841</td>\n",
       "      <td>508</td>\n",
       "    </tr>\n",
       "  </tbody>\n",
       "</table>\n",
       "</div>"
      ],
      "text/plain": [
       "         id  flight\n",
       "6   3401864     508\n",
       "28  3406841     508"
      ]
     },
     "execution_count": 56,
     "metadata": {},
     "output_type": "execute_result"
    }
   ],
   "source": [
    "id_frame[id_frame[\"flight\"] == 508]"
   ]
  },
  {
   "cell_type": "code",
   "execution_count": 50,
   "id": "5bfa4f8b",
   "metadata": {},
   "outputs": [],
   "source": [
    "jun_25 = um_extract[um_extract[\"Arrival Date\"].between(\"06/01/2025\", \"06/30/2025\")]"
   ]
  },
  {
   "cell_type": "code",
   "execution_count": 51,
   "id": "5665dc26",
   "metadata": {},
   "outputs": [
    {
     "data": {
      "text/html": [
       "<div>\n",
       "<style scoped>\n",
       "    .dataframe tbody tr th:only-of-type {\n",
       "        vertical-align: middle;\n",
       "    }\n",
       "\n",
       "    .dataframe tbody tr th {\n",
       "        vertical-align: top;\n",
       "    }\n",
       "\n",
       "    .dataframe thead th {\n",
       "        text-align: right;\n",
       "    }\n",
       "</style>\n",
       "<table border=\"1\" class=\"dataframe\">\n",
       "  <thead>\n",
       "    <tr style=\"text-align: right;\">\n",
       "      <th></th>\n",
       "      <th>Arrival Date</th>\n",
       "      <th>Time</th>\n",
       "      <th>Trx Units - FH</th>\n",
       "      <th>TSN Units - FH</th>\n",
       "      <th>Trx Units - CYC</th>\n",
       "      <th>TSN Units - CYC</th>\n",
       "      <th>Flight No</th>\n",
       "      <th>Dep - Arrv Loc</th>\n",
       "    </tr>\n",
       "  </thead>\n",
       "  <tbody>\n",
       "    <tr>\n",
       "      <th>12784</th>\n",
       "      <td>2025-06-04</td>\n",
       "      <td>15:21</td>\n",
       "      <td>2:38</td>\n",
       "      <td>84128:10</td>\n",
       "      <td>1</td>\n",
       "      <td>12790</td>\n",
       "      <td>EK 0508</td>\n",
       "      <td>DXB - BOM</td>\n",
       "    </tr>\n",
       "    <tr>\n",
       "      <th>12806</th>\n",
       "      <td>2025-06-13</td>\n",
       "      <td>14:59</td>\n",
       "      <td>2:31</td>\n",
       "      <td>84243:16</td>\n",
       "      <td>1</td>\n",
       "      <td>12812</td>\n",
       "      <td>EK 0508</td>\n",
       "      <td>DXB - BOM</td>\n",
       "    </tr>\n",
       "  </tbody>\n",
       "</table>\n",
       "</div>"
      ],
      "text/plain": [
       "      Arrival Date   Time Trx Units - FH TSN Units - FH  Trx Units - CYC  \\\n",
       "12784   2025-06-04  15:21           2:38       84128:10                1   \n",
       "12806   2025-06-13  14:59           2:31       84243:16                1   \n",
       "\n",
       "       TSN Units - CYC Flight No Dep - Arrv Loc  \n",
       "12784            12790   EK 0508      DXB - BOM  \n",
       "12806            12812   EK 0508      DXB - BOM  "
      ]
     },
     "execution_count": 51,
     "metadata": {},
     "output_type": "execute_result"
    }
   ],
   "source": [
    "jun_25[jun_25[\"Flight No\"].str.contains(\"0508\")]"
   ]
  },
  {
   "cell_type": "code",
   "execution_count": 18,
   "id": "81438726",
   "metadata": {},
   "outputs": [
    {
     "data": {
      "text/plain": [
       "'3451625'"
      ]
     },
     "execution_count": 18,
     "metadata": {},
     "output_type": "execute_result"
    }
   ],
   "source": [
    "ids[0]['id']"
   ]
  },
  {
   "cell_type": "code",
   "execution_count": null,
   "id": "db345fe7",
   "metadata": {},
   "outputs": [],
   "source": []
  },
  {
   "cell_type": "code",
   "execution_count": 184,
   "id": "8ef06b44",
   "metadata": {},
   "outputs": [
    {
     "data": {
      "text/plain": [
       "<function __main__._cdp_call(ws, method, params=None, timeout=6.0)>"
      ]
     },
     "execution_count": 184,
     "metadata": {},
     "output_type": "execute_result"
    }
   ],
   "source": [
    "_cdp_call"
   ]
  },
  {
   "cell_type": "code",
   "execution_count": null,
   "id": "46098c53",
   "metadata": {},
   "outputs": [],
   "source": [
    "\n",
    "\n",
    "\n",
    "def open_new_tab(diag: Dict[str, str], url: str = \"about:blank\") -> Dict:\n",
    "    \"\"\"\n",
    "    Opens a new browser tab (target) in the current CDP Chrome session.\n",
    "    Returns the full target info (includes 'id' and 'webSocketDebuggerUrl').\n",
    "\n",
    "    Args:\n",
    "        diag: your diagnostic dict with 'endpoint'\n",
    "        url:  optional URL to open, defaults to about:blank\n",
    "    \"\"\"\n",
    "    endpoint = diag[\"endpoint\"].rstrip(\"/\")\n",
    "    resp = requests.get(f\"{endpoint}/json/new?{url}\")\n",
    "    resp.raise_for_status()\n",
    "    new_tab = resp.json()\n",
    "    return new_tab"
   ]
  },
  {
   "cell_type": "code",
   "execution_count": null,
   "id": "923817b0",
   "metadata": {},
   "outputs": [],
   "source": [
    "diag = ensure_cdp_chrome_running(\n",
    "        chrome_path=chrome_path,           # or r\"C:\\Program Files\\Google\\Chrome\\Application\\chrome.exe\"\n",
    "        remote_port=9222,\n",
    "        user_data_dir=os.path.join(os.path.expanduser(\"~\"), \".cdp_chrome_profile\"),\n",
    "        extra_args=None,            # e.g., [\"--disable-extensions\"]\n",
    "        timeout_secs=12.0,\n",
    "        kill_if_unreachable=True,\n",
    "    )\n"
   ]
  },
  {
   "cell_type": "code",
   "execution_count": 47,
   "id": "5961c444",
   "metadata": {},
   "outputs": [
    {
     "data": {
      "text/plain": [
       "{'ok': True,\n",
       " 'final_url': None,\n",
       " 'title': None,\n",
       " 'timed_out': False,\n",
       " 'nav_time_s': 0.6236302852630615,\n",
       " 'html': None,\n",
       " 'error': None}"
      ]
     },
     "execution_count": 47,
     "metadata": {},
     "output_type": "execute_result"
    }
   ],
   "source": [
    "url = \"http://apollo.emirates.com/Intranet/WebUI/FlightWatch/GanttChart/Ganttmain.aspx?path=home&caseid=28\"\n",
    "navigate_to_site(diag['endpoint'],\n",
    "                                target_selector=\"\",   # match url or title substring\n",
    "                                url=url,\n",
    "                                set_skip_all_pauses=True,  # set True if you want the page HTML returned\n",
    "                                debug=False)"
   ]
  },
  {
   "cell_type": "code",
   "execution_count": null,
   "id": "5b14d1b6",
   "metadata": {},
   "outputs": [],
   "source": []
  }
 ],
 "metadata": {
  "kernelspec": {
   "display_name": "trav",
   "language": "python",
   "name": "python3"
  },
  "language_info": {
   "codemirror_mode": {
    "name": "ipython",
    "version": 3
   },
   "file_extension": ".py",
   "mimetype": "text/x-python",
   "name": "python",
   "nbconvert_exporter": "python",
   "pygments_lexer": "ipython3",
   "version": "3.10.11"
  }
 },
 "nbformat": 4,
 "nbformat_minor": 5
}
